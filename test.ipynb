{
 "cells": [
  {
   "cell_type": "code",
   "execution_count": 3,
   "metadata": {},
   "outputs": [],
   "source": [
    "from openai import OpenAI\n",
    "from typing import List, Dict, Tuple"
   ]
  },
  {
   "cell_type": "code",
   "execution_count": 4,
   "metadata": {},
   "outputs": [],
   "source": [
    "client = OpenAI(\n",
    "    api_key=\"sk-CwoLPKLXZQwaTlhDD3DApnstzXS1GqiFm8hxmagkg9MQhzpy\",\n",
    "    base_url=\"https://api.chatanywhere.tech/v1\"\n",
    ")"
   ]
  },
  {
   "cell_type": "code",
   "execution_count": 42,
   "metadata": {},
   "outputs": [],
   "source": [
    "import re\n",
    "from loguru import logger\n",
    "\n",
    "class Generator:\n",
    "    def __init__(self, corpus: List[str]):\n",
    "        self.corpus = corpus\n",
    "        self.triplet_pattern = r'\\((\\w+),\\s*(\\w+),\\s*(\\w+)\\)'\n",
    "\n",
    "    def _retrieve_domain_text(self, entity: str) -> str:\n",
    "        # 检索领域相关文本（简化版：按实体出现频率排序）\n",
    "        sentences = [s for s in self.corpus if entity in s]\n",
    "        sorted_sentences = sorted(sentences, key=lambda x: x.count(entity), reverse=True)\n",
    "        return \" \".join(sorted_sentences[:5])  # 截取前5段\n",
    "\n",
    "    def _retrieve_open_kg(self, entity: str, is_retrieve:bool =True) -> List[str]:\n",
    "        # 通过GPT-4o生成示例三元组\n",
    "        if is_retrieve:\n",
    "            result = [\"(SO2, is_type_of, Gas)\",\"(SO2, has_chemical_formula, SO_2)\",\"(SO2, is_used_in, Wine_Production)\",\"(SO2, causes, Air_Pollution)\",\"(SO2, causes, Acid_Rain)\"]\n",
    "            logger.debug(f\"ExampleTriplets: {result}\")\n",
    "            return result\n",
    "        response = client.chat.completions.create(\n",
    "            model=\"gpt-4o\",\n",
    "            messages=[{\n",
    "                \"role\": \"user\",\n",
    "                \"content\": f\"Generate 5 example triples for entity '{entity}' in format (head, relation, tail). each split by \\n\"\n",
    "            }]\n",
    "        )\n",
    "        logger.debug(f\"ExampleTriplets: {response.choices[0].message.content.strip()}\")\n",
    "        return response.choices[0].message.content.strip().split(\"\\n\")\n",
    "\n",
    "    def generate_triples(self, entity: str) -> List[Tuple[str, str, str]]:\n",
    "        domain_text = self._retrieve_domain_text(entity)\n",
    "        examples = self._retrieve_open_kg(entity)\n",
    "        system_prompt = \"You are ChatGPT, you will extract all triples related to a specific word from a piece of text. These triples must be output strictly in triple format\"\n",
    "        prompt = f\"\"\"\n",
    "        Domain Context: {domain_text}\n",
    "        Please extract all triples related to {entity} from the above text. The triples must have {entity} as the head entity and be output strictly in triple format.\n",
    "        Examples: {examples}\n",
    "        Output each triple as (head, relation, tail). Be concise and your reply should be all in English.\n",
    "        \"\"\"\n",
    "        response = client.chat.completions.create(\n",
    "            model=\"gpt-4o\",\n",
    "            messages=[{\"role\": \"system\", \"content\": system_prompt},\n",
    "                      {\"role\": \"user\", \"content\": prompt}]\n",
    "        )\n",
    "        raw_output = response.choices[0].message.content\n",
    "        logger.debug(f\"ModelOutput: {raw_output}\")\n",
    "        # 解析三元组（示例：正则匹配或简单分割）\n",
    "        matches = re.findall(self.triplet_pattern, raw_output)\n",
    "        return [tuple(triple) for triple in matches]\n",
    "        # return [tuple(triple.strip(\"()\").split(\", \")) for triple in raw_output.split(\"\\n\")]"
   ]
  },
  {
   "cell_type": "code",
   "execution_count": 49,
   "metadata": {},
   "outputs": [],
   "source": [
    "class Verifier:\n",
    "    def __init__(self):\n",
    "        self.rules = {\n",
    "            \"min_triples\": 3,\n",
    "            \"valid_relations\": [\"subclass_of\", \"part_of\", ...]\n",
    "        }\n",
    "\n",
    "    def verify_and_correct(self, triples: List[Tuple], entity: str) -> List[Tuple]:\n",
    "        # 检查数量\n",
    "        # if len(triples) < self.rules[\"min_triples\"]:\n",
    "        #     new_triples = self._reprompt(entity, \"Generate at least 3 triples.\")\n",
    "        #     return new_triples\n",
    "        \n",
    "        # 检查格式\n",
    "        valid_triples = []\n",
    "        for triple in triples:\n",
    "            if triple[0] != entity:\n",
    "                continue\n",
    "            if triple[0] == triple[2]:\n",
    "                continue\n",
    "            valid_triples.append(triple)\n",
    "        \n",
    "        return valid_triples\n",
    "\n",
    "    def _reprompt(self, entity: str, error_msg: str) -> List[Tuple]:\n",
    "        # 根据错误重新生成\n",
    "        response = client.chat.completions.create(\n",
    "            model=\"gpt-4o\",\n",
    "            messages=[{\n",
    "                \"role\": \"user\",\n",
    "                \"content\": f\"Correct the error: {error_msg}\\nGenerate valid triples for {entity}.\"\n",
    "            }]\n",
    "        )\n",
    "        raw_output = response.choices[0].message.content\n",
    "        return [tuple(triple.strip(\"()\").split(\", \")) for triple in raw_output.split(\"\\n\")]\n",
    "\n",
    "    def run(self, triples: List[Tuple], entity: str) -> bool:\n",
    "        valid_triples = self.verify_and_correct(triples=triples, entity=entity)\n",
    "        logger.debug(f\"ValidTriplets: {valid_triples}\")\n",
    "        if valid_triples:\n",
    "            return True, valid_triples\n",
    "        return False, None"
   ]
  },
  {
   "cell_type": "code",
   "execution_count": 7,
   "metadata": {},
   "outputs": [],
   "source": [
    "from abc import ABC, abstractmethod\n",
    "\n",
    "class Corpus(ABC):\n",
    "    \"\"\"\n",
    "    Corpus 基类，定义处理文本数据的基本接口。\n",
    "    \"\"\"\n",
    "    def __init__(self, data: str, max_seq_len=1000):\n",
    "        self.max_seq_len = max_seq_len\n",
    "        # data = [dt[:1000] for dt in data]\n",
    "        self.data = data  # 存储原始数据\n",
    "    \n",
    "    @abstractmethod\n",
    "    def clean(self):\n",
    "        \"\"\"清洗数据\"\"\"\n",
    "        pass\n",
    "    \n",
    "    @abstractmethod\n",
    "    def get_samples(self, num_samples=5):\n",
    "        \"\"\"返回指定数量的文本样本\"\"\"\n",
    "        pass\n",
    "    \n",
    "    def __len__(self):\n",
    "        \"\"\"返回数据的长度\"\"\"\n",
    "        return len(self.data)"
   ]
  },
  {
   "cell_type": "code",
   "execution_count": 23,
   "metadata": {},
   "outputs": [],
   "source": [
    "class SeeridiaChemistryNote_Corpus(Corpus):\n",
    "    def clean(self):\n",
    "        sections = []\n",
    "        buffer = []\n",
    "\n",
    "        for line in self.data.split('\\n'): \n",
    "            if re.match(r'^#{1,5}', line):\n",
    "                if buffer:\n",
    "                    sections.append('\\n'.join(buffer).strip())\n",
    "                    buffer = []\n",
    "            buffer.append(line)\n",
    "        \n",
    "        if buffer:\n",
    "            sections.append('\\n'.join(buffer).strip())\n",
    "        \n",
    "        self.data = [re.sub(r'<img[^>]*>', '', section).strip() for section in sections]\n",
    "    def get_samples(self, num_samples=5):\n",
    "        if num_samples > 0:\n",
    "            return self.data[:num_samples]\n",
    "        return self.data"
   ]
  },
  {
   "cell_type": "code",
   "execution_count": 24,
   "metadata": {},
   "outputs": [
    {
     "name": "stdout",
     "output_type": "stream",
     "text": [
      "<__main__.SeeridiaChemistryNote_Corpus object at 0x00000238A1861E10>\n"
     ]
    }
   ],
   "source": [
    "with open(\"08 硫及其化合物.md\", \"r\") as f:\n",
    "    data = \"\\n\".join(f.readlines())\n",
    "\n",
    "corpus = SeeridiaChemistryNote_Corpus(data)\n",
    "corpus.clean()\n",
    "print(corpus)"
   ]
  },
  {
   "cell_type": "code",
   "execution_count": 32,
   "metadata": {},
   "outputs": [
    {
     "data": {
      "text/plain": [
       "['# 元素及其化合物 · 八 · 「硫 $(\\\\ce{S})$ 及其化合物」\\n\\n\\n\\n1. 游离态：硫单质俗称硫黄，主要存在于火山口附近或地壳的岩层中\\n\\n\\n\\n2. 化合态：主要以 硫化物 和 硫酸盐 的形式存在\\n\\n\\n\\n    |   黄铁矿    |    黄铜矿     |          石膏           |           芒硝            |\\n\\n    | :---------: | :-----------: | :---------------------: | :-----------------------: |\\n\\n    | $\\\\ce{FeS2}$ | $\\\\ce{CuFeS2}$ | $\\\\ce{CaSO4 \\\\cdot 2H2O}$ | $\\\\ce{Na2SO4 \\\\cdot 10H2O}$ |\\n\\n\\n\\n    > $\\\\ce{S}$ 的常见化合价：$-2,-1,0,+1,+2,+3,+4,+6,+7,+8$ （无 $+5$ 价）',\n",
       " '## 硫单质',\n",
       " '### 物理性质\\n\\n\\n\\n1. 色态：黄色晶体，质脆，易研成粉末\\n\\n\\n\\n2. 溶解性：**难溶于水，微溶于酒精，易溶于二硫化碳 $\\\\ce{CS2}$** ，易溶于热煤油（化工题常考）\\n\\n    > 因此二硫化碳可用于洗涤内壁附着硫单质的试管',\n",
       " '### 化学性质\\n\\n\\n\\n硫单质既表现 **氧化性** ，又表现 **还原性**\\n\\n\\n\\n1. 与 $\\\\ce{H2}$ 反应：$\\\\ce{H2 +S\\\\xlongequal{\\\\Delta}H2S}$\\n\\n\\n\\n    > 硫化氢，$\\\\ce{H2S}$，臭鸡蛋味，有毒\\n\\n\\n\\n2. 与 $\\\\ce{O2}$ 反应：$\\\\ce{O2 +S\\\\xlongequal{点燃}SO2}$\\n\\n\\n\\n    > 无论氧气是否过量，产物均为二氧化硫（三氧化硫只在特殊的催化条件下生成）。发出明亮的蓝紫色火焰\\n\\n\\n\\n3. 与金属反应\\n\\n\\n\\n    $\\\\ce{Fe +S\\\\xlongequal{\\\\Delta} \\\\overset{+2}{Fe}S}\\\\newline \\\\ce{2Cu +S\\\\xlongequal{\\\\Delta} \\\\overset{+1}{Cu2}S}\\\\quad$\\n\\n   \\n\\n    > $\\\\ce{S}$ 的氧化性比 $\\\\ce{F、Cl}$ 弱，只能生成金属的低价态；\\n\\n   \\n\\n    $\\\\ce{Hg +S\\\\xlongequal{} HgS}$\\n\\n   \\n\\n    > 用于覆盖实验室撒落的汞以处理汞。',\n",
       " '## 硫酸',\n",
       " '### 物理性质\\n\\n\\n\\n纯硫酸是无色、黏稠的油状液体，沸点高、**难挥发**。常用的浓硫酸的质量分数是 $98\\\\%$（物质的量浓度为 $18.4 mol/L$），密度 $1.84g/cm^3$',\n",
       " '### 化学性质\\n\\n\\n\\n1. **难挥发性**：用于制备挥发性酸（如 $\\\\ce{HCl、HNO3}$ ）\\n\\n\\n\\n    $\\\\ce{NaCl +H2SO4(浓)\\\\xlongequal{微热}NaHSO4 +HCl ^}$\\n\\n\\n\\n    $\\\\ce{NaNO3 + H2SO4 (浓)\\\\xlongequal{微热}NaHSO4 + HNO3↑}$\\n\\n\\n\\n2. **强酸性**\\n\\n\\n\\n    制磷酸：$\\\\ce{Ca3(PO4)2 +3H2SO4(浓)\\\\xlongequal{}3CaSO4 +2H3PO4}$\\n\\n    \\n\\n        > 一般使用 $70\\\\%$ 的浓硫酸，因为 $98\\\\%$ 的浓硫酸氢离子浓度过小\\n\\n\\n\\n3. **吸水性**\\n\\n\\n\\n    浓硫酸具有 **强烈的吸水能力** ，能 **吸收空气中的水分** ，甚至能 **吸收结晶水合物的水** ，故浓硫酸常用作 **干燥剂** ，干燥一些 **不与浓硫酸反应的气体** 。\\n\\n\\n\\n    > 用浓 $\\\\ce{H2SO4}$ 可干燥 $\\\\ce{O2、H2、N2、CO2、Cl2、HCl、CO2、CO、CH4}$ 等气体，但不能干燥 $\\\\ce{NH3、H2S、HI、HBr}$ 等气体\\n\\n    >\\n\\n    > 运用：在乙酸乙酯的制备实验中，用浓硫酸吸水，促进反应正向移动，提高乙酸乙酯的产率\\n\\n\\n\\n4. **脱水性**\\n\\n\\n\\n    浓硫酸具有很强的腐蚀性，能按氢、氧原子 $2:1$ 的比例脱去纸、棉布、木条等有机物中的氢、氧元素；浓硫酸具有强腐蚀性与脱水性有很大关系，如浓硫酸会使蓝色石蕊试纸先变红，后变黑（碳化）\\n\\n\\n\\n    > 1. 蔗糖的脱水实验：$\\\\begin{cases}Frist.&\\\\ce{C12H22O11->[浓H2SO4]12C +11H2O}\\\\\\\\Second.&\\\\ce{C +H2SO4(浓)\\\\xlongequal{\\\\Delta}CO2 ^ +2SO2 ^ +2H2O}\\\\end{cases}\\\\\\\\$\\n\\n    >\\n\\n    > 既体现浓硫酸的 **脱水性** 又体现 **强氧化性** \\n\\n    >\\n\\n    > 2. 醇的消去反应：$\\\\ce{C2H5OH->[浓 H2SO4][170°C]CH2=CH2 ^ +H2O}$\\n\\n\\n\\n5. **强氧化性**\\n\\n\\n\\n    硫酸中的硫元素处于最高价态。**浓硫酸** 能与许多物质发生氧化还原反应，是常见的氧化剂\\n\\n\\n\\n    - 与铜反应：$\\\\ce{Cu +2H2SO4(浓)\\\\xlongequal{\\\\Delta}CuSO4 +SO2 ^ +2H2O}$\\n\\n\\n\\n        > 不浓不热不反应\\n\\n\\n\\n    - 与木炭反应：$\\\\ce{C +H2SO4(浓)\\\\xlongequal{\\\\Delta}CO2 ^ +2SO2 ^ +2H2O}$\\n\\n\\n\\n6. 其他\\n\\n\\n\\n    - 在常温下，浓 $\\\\ce{H2SO4}$ 与 $\\\\ce{Fe、Al}$ 反应，生成了致密、坚固的氧化膜阻止金属与浓 $\\\\ce{H2SO4}$ 接触，从而保护了金属。因此常温下可用 $\\\\ce{Fe、Al}$ 制容器盛放浓 $\\\\ce{H2SO4}$ ；浓 $\\\\ce{H2SO4}$ 与 $\\\\ce{Fe、Al}$ 可以反应，浓 $\\\\ce{H2SO4}$ 与 $\\\\ce{Cu}$ 常温下不反应\\n\\n    - 金属单质或低价金属的盐与浓 $\\\\ce{H2SO4}$ 反应时，浓 $\\\\ce{H2SO4}$ 既显氧化性又显酸性（与铜反应',\n",
       " '## 二氧化硫',\n",
       " '### 物理性质\\n\\n\\n\\n无色、有刺激性气味的有毒气体，密度比空气大，易溶于水（1 体积的水能溶解约 40 体积的二氧化硫），可用于杀菌消毒（向葡萄酒中加入适量二氧化硫）',\n",
       " '### 化学性质\\n\\n\\n\\n**Ⅰ $\\\\ce{SO2}$ 是 **酸性氧化物**，具有酸性氧化物的通性**\\n\\n\\n\\n1. 与水反应：$\\\\ce{\\\\overset{+4}{S}O2 +H2O <=> H2\\\\overset{+4}{S}O3}$\\n\\n\\n\\n    > $\\\\ce{H2SO3}$ 为二元酸；$\\\\ce{SO2\\\\sim H2SO3\\\\overset{完全}{\\\\sim} 2OH-}$\\n\\n    >\\n\\n    > $\\\\ce{H2SO3}$ 为中强酸，$\\\\ce{HSO^-_3}$ 电离大于水解，因此 $\\\\ce{NaHSO3}$ 显酸性（$\\\\ce{H3PO4}$ 同理）\\n\\n\\n\\n2. 与碱反应：\\n\\n\\n\\n    1. 少量 $\\\\ce{SO2}$ 通入 $\\\\ce{NaOH}$ 溶液：$\\\\ce{SO2 +2OH- \\\\xlongequal{}SO^2-_3 +H2O}$\\n\\n    2. 过量 $\\\\ce{SO2}$ 通入 $\\\\ce{NaOH}$ 溶液：$\\\\ce{SO2 +OH- \\\\xlongequal{} HSO^-_3 }$\\n\\n   \\n\\n3. 制备：$\\\\ce{Na2SO3 +H2SO4(浓) \\\\xlongequal{} Na2SO4 +SO2 ^ +H2O}$\\n\\n\\n\\n**Ⅱ $\\\\ce{SO2}$ 既有氧化性，又有还原性，以还原性为主**\\n\\n\\n\\n1. 还原性\\n\\n\\n\\n    1. 二氧化硫在适当的温度并有催化剂存在的条件下，可以被氧气氧化，生成三氧化硫\\n\\n\\n\\n        $\\\\ce{2SO2 +O2 <=>[V2O5][\\\\Delta]2SO3}$\\n\\n\\n\\n        > 三氧化硫也是一种酸性氧化物，溶于水时与水发生剧烈反应，生成硫酸\\n\\n        >\\n\\n        > $\\\\ce{SO3 +H2O\\\\xlongequal{}H2SO4}$\\n\\n        >\\n\\n        > 应用：工业制备硫酸（接触法制硫酸）\\n\\n        >\\n\\n        > \\n\\n        >\\n\\n        > 工业上一般以硫磺（ $\\\\ce{S}$ ）或其它含疏物（如黄铁矿 $\\\\ce{FeS2}$ ）为原料来制备硫酸。金属冶炼时产生的含二氧化硫废气经回收后也可用于制备硫酸\\n\\n        >\\n\\n        > $\\\\ce{4FeS2 +11O2\\\\xlongequal{高温}2Fe2O3 +8SO2}$ 或 $\\\\ce{S +O2\\\\xlongequal{点燃}SO2}$\\n\\n        >\\n\\n        > $\\\\ce{2SO2 +O2 <=>[V2O5][\\\\Delta]2SO3}$\\n\\n        >\\n\\n        > $\\\\ce{SO3 +H2O\\\\xlongequal{}H2SO4}$\\n\\n        >\\n\\n        > （一般工业上不用水吸收三氧化硫，而是使用二氧化硫，因为三氧化硫溶于水大量放热，水沸腾形成酸雾，酸雾随着气流离开，减少对三氧化硫的吸收效果）\\n\\n\\n\\n    2. 能被 $\\\\ce{H2O2、Cl2、Br2、I2、Fe^3+、KMnO4、HNO3、ClO-}$ 等强氧化剂氧化生成 $\\\\ce{SO^2-_4}$\\n\\n\\n\\n        - $\\\\ce{SO2 +H2O2\\\\xlongequal{}H2SO4}$\\n\\n        - $\\\\ce{SO2 +Cl2(Br2/I2) +2H2O\\\\xlongequal{}H2SO4 +2HCl(HBr/HI)}$\\n\\n        - $\\\\ce{SO2 +2Fe^3+ +2H2O\\\\xlongequal{}SO^2-_4 +2Fe^2+ + 4H+}$\\n\\n        - $\\\\ce{5SO2 +2MnO^-_4 +2H2O \\\\xlongequal{} 2Mn^2+ +5SO^2-_4 +4H+}$\\n\\n      \\n\\n        > 二氧化硫不与浓硫酸反应，因为两者如果反应，会归中反应至+5 价，而+5 价的硫化物不稳定\\n\\n        >\\n\\n        > 因此，二氧化硫可以用浓硫酸干燥\\n\\n\\n\\n2. 氧化性\\n\\n\\n\\n    $\\\\ce{SO2}$ 与 $\\\\ce{H2S}$ 反应： $\\\\ce{SO2 +2H2S\\\\xlongequal{}3S +2H2O}$\\n\\n\\n\\n        > $\\\\ce{H2S}$ 已是最低价态，只能表现还原性，二氧化硫表现氧化性\\n\\n\\n\\n3. 漂白性\\n\\n\\n\\n    - $\\\\ce{SO2}$ 具有漂白作用，能使 **品红溶液** 等有色物质褪色\\n\\n    \\n\\n    - 漂白的原理是 **$\\\\ce{SO2}$ 与有色物质结合生成了不稳定的无色物质**，与其氧化性无关。**加热后又显红色**，是由于不稳定的无色物质又分解为原来的 物质\\n\\n    \\n\\n    - $\\\\ce{SO2}$ 能漂白品红、鲜花等有机色素，**不能漂白酸碱指示剂，如酚酞、石蕊等**\\n\\n    \\n\\n    - 工业上常用 $\\\\ce{SO2}$ 来漂白纸浆、毛、丝、草帽辫等，还用于消毒、杀菌等\\n\\n   \\n\\n    > - 将 $\\\\ce{SO2}$ 通入含酚酞的 $\\\\ce{NaOH}$ 溶液中，溶液褪色，与其漂白性无关， $\\\\ce{SO2}$ 溶于水形成 $\\\\ce{SO^-_3}$ ，与 $\\\\ce{NaOH}$ 中和，使得溶液由碱性变酸性，因此酚酞变色\\n\\n    >\\n\\n    > - $\\\\ce{SO2}$ 使溴水、高锰酸钾褪色，与其漂白性无关，是由于其 **还原性**\\n\\n    \\n\\n    > - **氯水的漂白原理与 $\\\\ce{SO2}$ 不同**，氯水的漂白原理是 $\\\\ce{Cl2}$ 与 $\\\\ce{H2O}$ 反应后生成了 $\\\\ce{HClO}$ 具有 **强氧化性**，将有色的物质氧化为无色的物质，**褪色后不能恢复原来的颜色**\\n\\n    > - 将氯水与 $\\\\ce{SO2}$ 混合，会使得漂白性消失（ $\\\\ce{SO2 +Cl2 +2H2O\\\\xlongequal{}H2SO4 +2HCl}$ ）',\n",
       " '####  $\\\\ce{SO2}$ 的实验室制备\\n\\n\\n\\n1. 不加热型制备\\n\\n\\n\\n    反应原理：$\\\\ce{Na2SO3 +H2SO4(浓) \\\\xlongequal{} Na2SO4 +SO2 ^ +H2O}$\\n\\n\\n\\n    离子方程式：$\\\\ce{SO^{2-}_3 +2H+ \\\\xlongequal{} SO2 ^ +H2O}$\\n\\n\\n\\n    > 一般使用 $75\\\\%$ 的浓硫酸，$98\\\\%$ 的浓硫酸氢离子浓度过小；但也不能过小，因为会导致反应速率慢、$\\\\ce{SO2}$ 过多溶解在水中\\n\\n\\n\\n2. 加热型制备\\n\\n\\n\\n    $\\\\ce{Cu +2H2SO4(浓) \\\\xlongequal{\\\\Delta} CuSO4 +SO2 ^ +2H2O}$ （不浓不热不反应）\\n\\n\\n\\n    > 常考有关阿伏伽德罗常数问题，无法根据 $\\\\ce{Cu}$ 的量判断实际生成的 $\\\\ce{SO2}$ ，**因为浓硫酸浓度随反应降低而停止反应**\\n\\n\\n\\n3. 干燥：使用浓 $\\\\ce{H2SO4}$ 干燥（两者不反应）\\n\\n\\n\\n4. 收集：密度比空气大，向上排空气法\\n\\n\\n\\n5. 尾气处理：$\\\\ce{NaOH}$ 溶液',\n",
       " '### $\\\\ce{SO3}$ \\n\\n\\n\\n1. 物理性质：标况下为无色固体，常温下为无色液体，熔点为 $16.8°\\\\ce{C}$， 易升华，极易溶于水并放出大量热\\n\\n\\n\\n2. 化学性质：\\n\\n\\n\\n    1. 与水反应：$\\\\ce{SO3 +H2O=H2SO4}$\\n\\n\\n\\n    2. 与碱性氧化物反应\\n\\n\\n\\n        $\\\\ce{CaO +SO3 = CaSO4}$\\n\\n\\n\\n        $\\\\ce{Na2O +SO3 = Na2SO4}$\\n\\n\\n\\n    3. 与碱反应：$\\\\ce{SO3 +2OH- = SO^2-_4 +CO2}$\\n\\n\\n\\n    4. 与某些盐溶液反应：$\\\\ce{SO3 +Ba^2+ +H2O = BaSO4 v +2H+}$\\n\\n\\n\\n        > 用于鉴别 $\\\\ce{SO2}$ 与 $\\\\ce{SO3}$ ：$\\\\ce{SO2}$ 加入 $\\\\ce{BaCl2}$ 溶液中无沉淀\\n\\n\\n\\n ## 硫酸根离子的检验\\n\\n\\n\\n1. 原理：在溶液中，$\\\\ce{SO^2-_4}$ 可与 $\\\\ce{Ba^2+}$ 反应，生成 **不溶于稀盐酸** 的白色 $\\\\ce{BaSO4}$ 沉淀\\n\\n\\n\\n    > 强酸根形成的沉淀往往难溶于强酸，例如 $\\\\ce{BaSO4}$ 、 $\\\\ce{AgCl}$ 不溶于盐酸、硝酸\\n\\n\\n\\n2. 操作方法\\n\\n\\n\\n    1. 取少许待测液于洁净试管中，先加入足量稀盐酸酸化\\n\\n\\n\\n        > $\\\\ce{Ba^2+}$ 与 $\\\\ce{SO^2-_4、CO^2-_3、SO^2-_3}$ 形成沉淀，$\\\\ce{Ag+}$ 与 $\\\\ce{Cl-}$ 形成沉淀；稀盐酸可排除 $\\\\ce{CO^2-_3、SO^2-_3、Cl-}$ 的干扰\\n\\n\\n\\n    2. 上一步后无明显现象（若有沉淀，则静置后取上层清液），滴加 $\\\\ce{BaCl2}$ 溶液\\n\\n\\n\\n    3. 若有白色沉淀产生，则说明待测液中含有 $\\\\ce{SO^2-_4}$ \\n\\n\\n\\n        若无白色沉淀产生，则说明待测液中不含 $\\\\ce{SO^2-_4}$ \\n\\n\\n\\n3. 注意事项\\n\\n\\n\\n    - 不能只加入 $\\\\ce{BaCl2}$ ，且盐酸和 $\\\\ce{BaCl2}$ 的顺序不可以颠倒\\n\\n\\n\\n        > 例如：待测液先加入 $\\\\ce{BaCl2}$ ，发现白色沉淀，再加入稀盐酸，观察到沉淀不消失，不可判断是 $\\\\ce{SO^2-_4}$ \\n\\n        >\\n\\n        > 因为虽然排除了 $\\\\ce{BaCO3}$ 和 $\\\\ce{BaSO3}$ 的干扰，但也有可能是 $\\\\ce{AgCl}$ （$\\\\ce{HCl}$ 不会使 $\\\\ce{AgCl}$ 沉淀消失）\\n\\n\\n\\n    - 不可以引入硝酸根，例如不可以加 $\\\\ce{HNO3}$ 酸化或是加 $\\\\ce{Ba(NO3)2}$',\n",
       " '## 硫及其化合物的转化']"
      ]
     },
     "execution_count": 32,
     "metadata": {},
     "output_type": "execute_result"
    }
   ],
   "source": [
    "corpus.get_samples(-1)"
   ]
  },
  {
   "cell_type": "code",
   "execution_count": 43,
   "metadata": {},
   "outputs": [],
   "source": [
    "chem_generator = Generator(corpus.get_samples(-1))"
   ]
  },
  {
   "cell_type": "code",
   "execution_count": 46,
   "metadata": {},
   "outputs": [
    {
     "name": "stderr",
     "output_type": "stream",
     "text": [
      "\u001b[32m2025-03-04 19:28:39.725\u001b[0m | \u001b[34m\u001b[1mDEBUG   \u001b[0m | \u001b[36m__main__\u001b[0m:\u001b[36m_retrieve_open_kg\u001b[0m:\u001b[36m19\u001b[0m - \u001b[34m\u001b[1mExampleTriplets: ['(SO2, is_type_of, Gas)', '(SO2, has_chemical_formula, SO_2)', '(SO2, is_used_in, Wine_Production)', '(SO2, causes, Air_Pollution)', '(SO2, causes, Acid_Rain)']\u001b[0m\n",
      "\u001b[32m2025-03-04 19:28:49.428\u001b[0m | \u001b[34m\u001b[1mDEBUG   \u001b[0m | \u001b[36m__main__\u001b[0m:\u001b[36mgenerate_triples\u001b[0m:\u001b[36m47\u001b[0m - \u001b[34m\u001b[1mModelOutput: \n",
      "1. (SO2, is_type_of, acidic_oxide)\n",
      "2. (SO2, reacts_with, H2O)\n",
      "3. (SO2, main_property, Reducing)\n",
      "4. (SO2, can_be_oxidized_by, O2)\n",
      "5. (SO2, can_be_oxidized_by, H2O2)\n",
      "6. (SO2, can_be_oxidized_by, Cl2)\n",
      "7. (SO2, can_be_oxidized_by, Br2)\n",
      "8. (SO2, can_be_oxidized_by, I2)\n",
      "9. (SO2, can_be_oxidized_by, Fe3+)\n",
      "10. (SO2, can_be_oxidized_by, KMnO4)\n",
      "11. (SO2, can_be_oxidized_by, HNO3)\n",
      "12. (SO2, can_be_oxidized_by, ClO-)\n",
      "13. (SO2, reacts_with, H2S)\n",
      "14. (SO2, has_property, Bleaching)\n",
      "15. (SO2, is_used_in, bleaching_paper_pulp)\n",
      "16. (SO2, is_used_in, disinfecting)\n",
      "17. (SO2, is_generated_by, Na2SO3_reacting_with_H2SO4)\u001b[0m\n"
     ]
    }
   ],
   "source": [
    "generated_triplets = chem_generator.generate_triples(\"SO2\")"
   ]
  },
  {
   "cell_type": "code",
   "execution_count": 51,
   "metadata": {},
   "outputs": [
    {
     "name": "stdout",
     "output_type": "stream",
     "text": [
      "[('SO2', 'is_type_of', 'acidic_oxide'), ('SO2', 'reacts_with', 'H2O'), ('SO2', 'main_property', 'Reducing'), ('SO2', 'can_be_oxidized_by', 'O2'), ('SO2', 'can_be_oxidized_by', 'H2O2'), ('SO2', 'can_be_oxidized_by', 'Cl2'), ('SO2', 'can_be_oxidized_by', 'Br2'), ('SO2', 'can_be_oxidized_by', 'I2'), ('SO2', 'can_be_oxidized_by', 'KMnO4'), ('SO2', 'can_be_oxidized_by', 'HNO3'), ('SO2', 'reacts_with', 'H2S'), ('SO2', 'has_property', 'Bleaching'), ('SO2', 'is_used_in', 'bleaching_paper_pulp'), ('SO2', 'is_used_in', 'disinfecting'), ('SO2', 'is_generated_by', 'Na2SO3_reacting_with_H2SO4')]\n"
     ]
    }
   ],
   "source": [
    "print(generated_triplets)"
   ]
  },
  {
   "cell_type": "code",
   "execution_count": 50,
   "metadata": {},
   "outputs": [
    {
     "name": "stderr",
     "output_type": "stream",
     "text": [
      "\u001b[32m2025-03-04 19:30:06.959\u001b[0m | \u001b[34m\u001b[1mDEBUG   \u001b[0m | \u001b[36m__main__\u001b[0m:\u001b[36mrun\u001b[0m:\u001b[36m39\u001b[0m - \u001b[34m\u001b[1mValidTriplets: [('SO2', 'is_type_of', 'acidic_oxide'), ('SO2', 'reacts_with', 'H2O'), ('SO2', 'main_property', 'Reducing'), ('SO2', 'can_be_oxidized_by', 'O2'), ('SO2', 'can_be_oxidized_by', 'H2O2'), ('SO2', 'can_be_oxidized_by', 'Cl2'), ('SO2', 'can_be_oxidized_by', 'Br2'), ('SO2', 'can_be_oxidized_by', 'I2'), ('SO2', 'can_be_oxidized_by', 'KMnO4'), ('SO2', 'can_be_oxidized_by', 'HNO3'), ('SO2', 'reacts_with', 'H2S'), ('SO2', 'has_property', 'Bleaching'), ('SO2', 'is_used_in', 'bleaching_paper_pulp'), ('SO2', 'is_used_in', 'disinfecting'), ('SO2', 'is_generated_by', 'Na2SO3_reacting_with_H2SO4')]\u001b[0m\n"
     ]
    },
    {
     "data": {
      "text/plain": [
       "(True,\n",
       " [('SO2', 'is_type_of', 'acidic_oxide'),\n",
       "  ('SO2', 'reacts_with', 'H2O'),\n",
       "  ('SO2', 'main_property', 'Reducing'),\n",
       "  ('SO2', 'can_be_oxidized_by', 'O2'),\n",
       "  ('SO2', 'can_be_oxidized_by', 'H2O2'),\n",
       "  ('SO2', 'can_be_oxidized_by', 'Cl2'),\n",
       "  ('SO2', 'can_be_oxidized_by', 'Br2'),\n",
       "  ('SO2', 'can_be_oxidized_by', 'I2'),\n",
       "  ('SO2', 'can_be_oxidized_by', 'KMnO4'),\n",
       "  ('SO2', 'can_be_oxidized_by', 'HNO3'),\n",
       "  ('SO2', 'reacts_with', 'H2S'),\n",
       "  ('SO2', 'has_property', 'Bleaching'),\n",
       "  ('SO2', 'is_used_in', 'bleaching_paper_pulp'),\n",
       "  ('SO2', 'is_used_in', 'disinfecting'),\n",
       "  ('SO2', 'is_generated_by', 'Na2SO3_reacting_with_H2SO4')])"
      ]
     },
     "execution_count": 50,
     "metadata": {},
     "output_type": "execute_result"
    }
   ],
   "source": [
    "verifier = Verifier()\n",
    "verifier.run(generated_triplets, entity=\"SO2\")"
   ]
  },
  {
   "cell_type": "code",
   "execution_count": 73,
   "metadata": {},
   "outputs": [],
   "source": [
    "from pydantic import BaseModel\n",
    "from typing import List, Optional, Dict, Union\n",
    "from enum import Enum\n",
    "\n",
    "class CompoundType(Enum):\n",
    "    Elemental = \"Elemental\"\n",
    "    Oxide = \"Oxide\"\n",
    "    Acid = \"Acid\"\n",
    "    Alkali = \"Alkali\"\n",
    "    Salt = \"Salt\"\n",
    "\n",
    "class CompoundProperty(Enum):\n",
    "    Oxidation = \"Oxidation\"\n",
    "    Reductiveness = \"Reductiveness\"\n",
    "    Others = \"Others\"\n",
    "\n",
    "class ReactionType(Enum):\n",
    "    Redox = \"Redox\"\n",
    "    Neutralization = \"Neutralization\"\n",
    "    Others = \"Others\"\n",
    "\n",
    "class EntityType(Enum):\n",
    "    Element = \"Element\"\n",
    "    Compound = \"Compound\"\n",
    "    Ion = \"Ion\"\n",
    "\n",
    "class StateOfMatter(Enum):\n",
    "    Solid = \"Solid\"\n",
    "    Liquid = \"Liquid\"\n",
    "    Gas = \"Gas\"\n",
    "    Others = \"Others\"\n",
    "\n",
    "class Entity(BaseModel):\n",
    "    entity_type: EntityType\n",
    "    entity_name: str\n",
    "\n",
    "class Entities(BaseModel):\n",
    "    entities: List[Entity]\n",
    "\n",
    "class PhysicalProperties(BaseModel):\n",
    "    color: Union[str, None]\n",
    "    state_of_matter: Union[StateOfMatter, None]\n",
    "    molecule_weight: Union[float, None]\n",
    "    melting_point: Union[float, None]\n",
    "    boiling_point: Union[float, None]\n",
    "\n",
    "class Element(BaseModel):\n",
    "    element_name: str\n",
    "    element_symbol: str\n",
    "    atomic_number: Union[int, None]\n",
    "    atomic_weight: Union[float, None]\n",
    "    electron_configuration: Union[str, None]\n",
    "    simple_substance_property: PhysicalProperties\n",
    "\n",
    "class Compound(BaseModel):\n",
    "    compound_name: Union[str, None]\n",
    "    compound_formula: Union[str, None]\n",
    "    compound_type: CompoundType\n",
    "    physical_properties: PhysicalProperties\n",
    "    chem_properties: Union[List[CompoundProperty], None]\n",
    "\n",
    "class Reaction(BaseModel):\n",
    "    reaction_type: ReactionType\n",
    "    equation: str\n",
    "    conditions: Optional[str]\n",
    "    reactants: List[str]\n",
    "    products: List[str]\n",
    "\n",
    "class Reactions(BaseModel):\n",
    "    reactions: List[Reaction]"
   ]
  },
  {
   "cell_type": "markdown",
   "metadata": {},
   "source": [
    "At first we should extract all entities appear in this note."
   ]
  },
  {
   "cell_type": "markdown",
   "metadata": {},
   "source": [
    "These following instructions are useless for entities:\n",
    "\n",
    "These entities must be output strictly in Latex output format\n",
    "\n",
    "Requires strictly LaTeX output format."
   ]
  },
  {
   "cell_type": "code",
   "execution_count": 76,
   "metadata": {},
   "outputs": [
    {
     "name": "stderr",
     "output_type": "stream",
     "text": [
      "\u001b[32m2025-03-10 11:59:26.628\u001b[0m | \u001b[34m\u001b[1mDEBUG   \u001b[0m | \u001b[36m__main__\u001b[0m:\u001b[36m<module>\u001b[0m:\u001b[36m18\u001b[0m - \u001b[34m\u001b[1mModelOutput: ParsedChatCompletionMessage[Entities](content='{\"entities\":[{\"entity_name\":\"S\",\"entity_type\":\"Element\"},{\"entity_name\":\"H2S\",\"entity_type\":\"Compound\"},{\"entity_name\":\"SO2\",\"entity_type\":\"Compound\"},{\"entity_name\":\"SO3\",\"entity_type\":\"Compound\"},{\"entity_name\":\"H2SO4\",\"entity_type\":\"Compound\"},{\"entity_name\":\"CaSO4·2H2O\",\"entity_type\":\"Compound\"},{\"entity_name\":\"Na2SO4·10H2O\",\"entity_type\":\"Compound\"},{\"entity_name\":\"FeS2\",\"entity_type\":\"Compound\"},{\"entity_name\":\"CuFeS2\",\"entity_type\":\"Compound\"},{\"entity_name\":\"NaHSO4\",\"entity_type\":\"Compound\"},{\"entity_name\":\"H2O\",\"entity_type\":\"Compound\"},{\"entity_name\":\"H3PO4\",\"entity_type\":\"Compound\"},{\"entity_name\":\"Na2SO3\",\"entity_type\":\"Compound\"},{\"entity_name\":\"BaSO4\",\"entity_type\":\"Compound\"},{\"entity_name\":\"HCl\",\"entity_type\":\"Compound\"},{\"entity_name\":\"HNO3\",\"entity_type\":\"Compound\"},{\"entity_name\":\"KMnO4\",\"entity_type\":\"Compound\"},{\"entity_name\":\"CO2\",\"entity_type\":\"Compound\"},{\"entity_name\":\"Cl2\",\"entity_type\":\"Compound\"},{\"entity_name\":\"Br2\",\"entity_type\":\"Compound\"},{\"entity_name\":\"I2\",\"entity_type\":\"Compound\"},{\"entity_name\":\"Fe\",\"entity_type\":\"Element\"},{\"entity_name\":\"Al\",\"entity_type\":\"Element\"},{\"entity_name\":\"Hg\",\"entity_type\":\"Element\"},{\"entity_name\":\"Cu\",\"entity_type\":\"Element\"},{\"entity_name\":\"O2\",\"entity_type\":\"Element\"},{\"entity_name\":\"N2\",\"entity_type\":\"Element\"},{\"entity_name\":\"Cl2\",\"entity_type\":\"Element\"},{\"entity_name\":\"NH3\",\"entity_type\":\"Compound\"},{\"entity_name\":\"HI\",\"entity_type\":\"Compound\"},{\"entity_name\":\"HBr\",\"entity_type\":\"Compound\"},{\"entity_name\":\"SO4^2-\",\"entity_type\":\"Ion\"},{\"entity_name\":\"SO3^2-\",\"entity_type\":\"Ion\"},{\"entity_name\":\"HSO3^-\",\"entity_type\":\"Ion\"},{\"entity_name\":\"CO3^2-\",\"entity_type\":\"Ion\"},{\"entity_name\":\"Cl-\",\"entity_type\":\"Ion\"},{\"entity_name\":\"Ag+\",\"entity_type\":\"Ion\"},{\"entity_name\":\"Ba^2+\",\"entity_type\":\"Ion\"},{\"entity_name\":\"Fe^3+\",\"entity_type\":\"Ion\"},{\"entity_name\":\"MnO4^-\",\"entity_type\":\"Ion\"}]}', refusal=None, role='assistant', audio=None, function_call=None, tool_calls=None, parsed=Entities(entities=[Entity(entity_type=<EntityType.Element: 'Element'>, entity_name='S'), Entity(entity_type=<EntityType.Compound: 'Compound'>, entity_name='H2S'), Entity(entity_type=<EntityType.Compound: 'Compound'>, entity_name='SO2'), Entity(entity_type=<EntityType.Compound: 'Compound'>, entity_name='SO3'), Entity(entity_type=<EntityType.Compound: 'Compound'>, entity_name='H2SO4'), Entity(entity_type=<EntityType.Compound: 'Compound'>, entity_name='CaSO4·2H2O'), Entity(entity_type=<EntityType.Compound: 'Compound'>, entity_name='Na2SO4·10H2O'), Entity(entity_type=<EntityType.Compound: 'Compound'>, entity_name='FeS2'), Entity(entity_type=<EntityType.Compound: 'Compound'>, entity_name='CuFeS2'), Entity(entity_type=<EntityType.Compound: 'Compound'>, entity_name='NaHSO4'), Entity(entity_type=<EntityType.Compound: 'Compound'>, entity_name='H2O'), Entity(entity_type=<EntityType.Compound: 'Compound'>, entity_name='H3PO4'), Entity(entity_type=<EntityType.Compound: 'Compound'>, entity_name='Na2SO3'), Entity(entity_type=<EntityType.Compound: 'Compound'>, entity_name='BaSO4'), Entity(entity_type=<EntityType.Compound: 'Compound'>, entity_name='HCl'), Entity(entity_type=<EntityType.Compound: 'Compound'>, entity_name='HNO3'), Entity(entity_type=<EntityType.Compound: 'Compound'>, entity_name='KMnO4'), Entity(entity_type=<EntityType.Compound: 'Compound'>, entity_name='CO2'), Entity(entity_type=<EntityType.Compound: 'Compound'>, entity_name='Cl2'), Entity(entity_type=<EntityType.Compound: 'Compound'>, entity_name='Br2'), Entity(entity_type=<EntityType.Compound: 'Compound'>, entity_name='I2'), Entity(entity_type=<EntityType.Element: 'Element'>, entity_name='Fe'), Entity(entity_type=<EntityType.Element: 'Element'>, entity_name='Al'), Entity(entity_type=<EntityType.Element: 'Element'>, entity_name='Hg'), Entity(entity_type=<EntityType.Element: 'Element'>, entity_name='Cu'), Entity(entity_type=<EntityType.Element: 'Element'>, entity_name='O2'), Entity(entity_type=<EntityType.Element: 'Element'>, entity_name='N2'), Entity(entity_type=<EntityType.Element: 'Element'>, entity_name='Cl2'), Entity(entity_type=<EntityType.Compound: 'Compound'>, entity_name='NH3'), Entity(entity_type=<EntityType.Compound: 'Compound'>, entity_name='HI'), Entity(entity_type=<EntityType.Compound: 'Compound'>, entity_name='HBr'), Entity(entity_type=<EntityType.Ion: 'Ion'>, entity_name='SO4^2-'), Entity(entity_type=<EntityType.Ion: 'Ion'>, entity_name='SO3^2-'), Entity(entity_type=<EntityType.Ion: 'Ion'>, entity_name='HSO3^-'), Entity(entity_type=<EntityType.Ion: 'Ion'>, entity_name='CO3^2-'), Entity(entity_type=<EntityType.Ion: 'Ion'>, entity_name='Cl-'), Entity(entity_type=<EntityType.Ion: 'Ion'>, entity_name='Ag+'), Entity(entity_type=<EntityType.Ion: 'Ion'>, entity_name='Ba^2+'), Entity(entity_type=<EntityType.Ion: 'Ion'>, entity_name='Fe^3+'), Entity(entity_type=<EntityType.Ion: 'Ion'>, entity_name='MnO4^-')]))\u001b[0m\n"
     ]
    },
    {
     "name": "stdout",
     "output_type": "stream",
     "text": [
      "{'entities': [{'entity_name': 'S', 'entity_type': 'Element'},\n",
      "              {'entity_name': 'H2S', 'entity_type': 'Compound'},\n",
      "              {'entity_name': 'SO2', 'entity_type': 'Compound'},\n",
      "              {'entity_name': 'SO3', 'entity_type': 'Compound'},\n",
      "              {'entity_name': 'H2SO4', 'entity_type': 'Compound'},\n",
      "              {'entity_name': 'CaSO4·2H2O', 'entity_type': 'Compound'},\n",
      "              {'entity_name': 'Na2SO4·10H2O', 'entity_type': 'Compound'},\n",
      "              {'entity_name': 'FeS2', 'entity_type': 'Compound'},\n",
      "              {'entity_name': 'CuFeS2', 'entity_type': 'Compound'},\n",
      "              {'entity_name': 'NaHSO4', 'entity_type': 'Compound'},\n",
      "              {'entity_name': 'H2O', 'entity_type': 'Compound'},\n",
      "              {'entity_name': 'H3PO4', 'entity_type': 'Compound'},\n",
      "              {'entity_name': 'Na2SO3', 'entity_type': 'Compound'},\n",
      "              {'entity_name': 'BaSO4', 'entity_type': 'Compound'},\n",
      "              {'entity_name': 'HCl', 'entity_type': 'Compound'},\n",
      "              {'entity_name': 'HNO3', 'entity_type': 'Compound'},\n",
      "              {'entity_name': 'KMnO4', 'entity_type': 'Compound'},\n",
      "              {'entity_name': 'CO2', 'entity_type': 'Compound'},\n",
      "              {'entity_name': 'Cl2', 'entity_type': 'Compound'},\n",
      "              {'entity_name': 'Br2', 'entity_type': 'Compound'},\n",
      "              {'entity_name': 'I2', 'entity_type': 'Compound'},\n",
      "              {'entity_name': 'Fe', 'entity_type': 'Element'},\n",
      "              {'entity_name': 'Al', 'entity_type': 'Element'},\n",
      "              {'entity_name': 'Hg', 'entity_type': 'Element'},\n",
      "              {'entity_name': 'Cu', 'entity_type': 'Element'},\n",
      "              {'entity_name': 'O2', 'entity_type': 'Element'},\n",
      "              {'entity_name': 'N2', 'entity_type': 'Element'},\n",
      "              {'entity_name': 'Cl2', 'entity_type': 'Element'},\n",
      "              {'entity_name': 'NH3', 'entity_type': 'Compound'},\n",
      "              {'entity_name': 'HI', 'entity_type': 'Compound'},\n",
      "              {'entity_name': 'HBr', 'entity_type': 'Compound'},\n",
      "              {'entity_name': 'SO4^2-', 'entity_type': 'Ion'},\n",
      "              {'entity_name': 'SO3^2-', 'entity_type': 'Ion'},\n",
      "              {'entity_name': 'HSO3^-', 'entity_type': 'Ion'},\n",
      "              {'entity_name': 'CO3^2-', 'entity_type': 'Ion'},\n",
      "              {'entity_name': 'Cl-', 'entity_type': 'Ion'},\n",
      "              {'entity_name': 'Ag+', 'entity_type': 'Ion'},\n",
      "              {'entity_name': 'Ba^2+', 'entity_type': 'Ion'},\n",
      "              {'entity_name': 'Fe^3+', 'entity_type': 'Ion'},\n",
      "              {'entity_name': 'MnO4^-', 'entity_type': 'Ion'}]}\n"
     ]
    }
   ],
   "source": [
    "domain_text = corpus.get_samples(-1)\n",
    "\n",
    "system_prompt = \"You are ChatGPT, you will extract all the entities from a piece of text.\"\n",
    "prompt = f\"\"\"\n",
    "Domain Context: {domain_text}\n",
    "Please extract all the entities from the above text. these entities may include elements, compounds, ions, and so on.\n",
    "Be concise and your reply should be all in English.\n",
    "\"\"\"\n",
    "response = client.beta.chat.completions.parse(\n",
    "    model=\"gpt-4o-mini\",\n",
    "    messages=[{\"role\": \"system\", \"content\": system_prompt},\n",
    "                {\"role\": \"user\", \"content\": prompt}],\n",
    "    response_format=Entities\n",
    ")\n",
    "\n",
    "raw_output = response.choices[0].message\n",
    "if raw_output.parsed:\n",
    "    logger.debug(f\"ModelOutput: {raw_output}\")\n",
    "    # 解析三元组（示例：正则匹配或简单分割）\n",
    "    entities = raw_output.parsed\n",
    "    entities = json.loads(entities.model_dump_json())\n",
    "    pprint(entities)"
   ]
  },
  {
   "cell_type": "markdown",
   "metadata": {},
   "source": [
    "After that, we can find every property of entities from wikidata and PubChem and so on."
   ]
  },
  {
   "cell_type": "code",
   "execution_count": 75,
   "metadata": {},
   "outputs": [
    {
     "name": "stdout",
     "output_type": "stream",
     "text": [
      "{'entities': [{'entity_name': 'S', 'entity_type': 'Element'},\n",
      "              {'entity_name': 'FeS2', 'entity_type': 'Compound'},\n",
      "              {'entity_name': 'CuFeS2', 'entity_type': 'Compound'},\n",
      "              {'entity_name': 'CaSO4 \\\\cdot 2H2O', 'entity_type': 'Compound'},\n",
      "              {'entity_name': 'Na2SO4 \\\\cdot 10H2O', 'entity_type': 'Compound'},\n",
      "              {'entity_name': 'CS2', 'entity_type': 'Compound'},\n",
      "              {'entity_name': 'H2S', 'entity_type': 'Compound'},\n",
      "              {'entity_name': 'FeS', 'entity_type': 'Compound'},\n",
      "              {'entity_name': 'Cu2S', 'entity_type': 'Compound'},\n",
      "              {'entity_name': 'HgS', 'entity_type': 'Compound'},\n",
      "              {'entity_name': 'H2SO4', 'entity_type': 'Compound'},\n",
      "              {'entity_name': 'HCl', 'entity_type': 'Compound'},\n",
      "              {'entity_name': 'HNO3', 'entity_type': 'Compound'},\n",
      "              {'entity_name': 'NaCl', 'entity_type': 'Compound'},\n",
      "              {'entity_name': 'NaHSO4', 'entity_type': 'Compound'},\n",
      "              {'entity_name': 'Ca3(PO4)2', 'entity_type': 'Compound'},\n",
      "              {'entity_name': '3CaSO4', 'entity_type': 'Compound'},\n",
      "              {'entity_name': 'H3PO4', 'entity_type': 'Compound'},\n",
      "              {'entity_name': 'CuSO4', 'entity_type': 'Compound'},\n",
      "              {'entity_name': 'SO3', 'entity_type': 'Compound'},\n",
      "              {'entity_name': 'H2O', 'entity_type': 'Compound'},\n",
      "              {'entity_name': 'CO2', 'entity_type': 'Compound'},\n",
      "              {'entity_name': 'C', 'entity_type': 'Element'},\n",
      "              {'entity_name': 'CH4', 'entity_type': 'Compound'},\n",
      "              {'entity_name': 'Fe', 'entity_type': 'Element'},\n",
      "              {'entity_name': 'Al', 'entity_type': 'Element'},\n",
      "              {'entity_name': 'O2', 'entity_type': 'Element'},\n",
      "              {'entity_name': 'N2', 'entity_type': 'Element'},\n",
      "              {'entity_name': 'Cl2', 'entity_type': 'Element'},\n",
      "              {'entity_name': 'SO2', 'entity_type': 'Compound'},\n",
      "              {'entity_name': 'NH3', 'entity_type': 'Compound'},\n",
      "              {'entity_name': 'Br2', 'entity_type': 'Element'},\n",
      "              {'entity_name': 'I2', 'entity_type': 'Element'},\n",
      "              {'entity_name': 'CO', 'entity_type': 'Compound'},\n",
      "              {'entity_name': 'HI', 'entity_type': 'Compound'},\n",
      "              {'entity_name': 'Hg', 'entity_type': 'Element'},\n",
      "              {'entity_name': 'NaNO3', 'entity_type': 'Compound'},\n",
      "              {'entity_name': 'SO4^2-', 'entity_type': 'Ion'},\n",
      "              {'entity_name': 'C2H5OH', 'entity_type': 'Compound'},\n",
      "              {'entity_name': 'V2O5', 'entity_type': 'Compound'},\n",
      "              {'entity_name': 'Frist', 'entity_type': 'Compound'},\n",
      "              {'entity_name': 'Cu', 'entity_type': 'Element'},\n",
      "              {'entity_name': 'Cu2+', 'entity_type': 'Ion'},\n",
      "              {'entity_name': 'Fe2+', 'entity_type': 'Ion'},\n",
      "              {'entity_name': 'MnO4^-', 'entity_type': 'Ion'},\n",
      "              {'entity_name': 'Fe3+', 'entity_type': 'Ion'},\n",
      "              {'entity_name': 'NaHSO3', 'entity_type': 'Compound'},\n",
      "              {'entity_name': 'NaOH', 'entity_type': 'Compound'},\n",
      "              {'entity_name': '2OH^-', 'entity_type': 'Ion'},\n",
      "              {'entity_name': 'Ba2+', 'entity_type': 'Ion'},\n",
      "              {'entity_name': 'AgCl', 'entity_type': 'Compound'},\n",
      "              {'entity_name': 'OH^-', 'entity_type': 'Ion'},\n",
      "              {'entity_name': 'Cl-', 'entity_type': 'Ion'},\n",
      "              {'entity_name': 'CO3^2-', 'entity_type': 'Ion'},\n",
      "              {'entity_name': 'Na2O', 'entity_type': 'Compound'},\n",
      "              {'entity_name': 'CaO', 'entity_type': 'Compound'},\n",
      "              {'entity_name': 'CO3', 'entity_type': 'Ion'},\n",
      "              {'entity_name': 'PO4^3-', 'entity_type': 'Ion'},\n",
      "              {'entity_name': 'Mg', 'entity_type': 'Element'},\n",
      "              {'entity_name': 'H', 'entity_type': 'Element'},\n",
      "              {'entity_name': 'BaSO4', 'entity_type': 'Compound'},\n",
      "              {'entity_name': 'SO3^2-', 'entity_type': 'Ion'},\n",
      "              {'entity_name': 'H2O2', 'entity_type': 'Compound'}]}\n"
     ]
    }
   ],
   "source": [
    "entities = json.loads(entities.model_dump_json())\n",
    "pprint(entities)"
   ]
  },
  {
   "cell_type": "markdown",
   "metadata": {},
   "source": [
    "And then we care about main entity with some reactions."
   ]
  },
  {
   "cell_type": "code",
   "execution_count": null,
   "metadata": {},
   "outputs": [
    {
     "name": "stderr",
     "output_type": "stream",
     "text": [
      "\u001b[32m2025-03-10 14:56:08.471\u001b[0m | \u001b[34m\u001b[1mDEBUG   \u001b[0m | \u001b[36m__main__\u001b[0m:\u001b[36m<module>\u001b[0m:\u001b[36m23\u001b[0m - \u001b[34m\u001b[1mModelOutput: ParsedChatCompletionMessage[Reactions](content='{\"reactions\":[{\"conditions\":\"none\",\"equation\":\"Na2SO3 + H2SO4(浓) ↔ Na2SO4 + SO2 + H2O\",\"products\":[\"Na2SO4\",\"SO2\",\"H2O\"],\"reactants\":[\"Na2SO3\",\"H2SO4(浓)\"],\"reaction_type\":\"Others\"},{\"conditions\":\"高温\",\"equation\":\"2SO2 + O2 ↔[V2O5][Δ] 2SO3\",\"products\":[\"SO3\"],\"reactants\":[\"SO2\",\"O2\"],\"reaction_type\":\"Redox\"},{\"conditions\":\"适当温度并有催化剂存在\",\"equation\":\"SO2 + 2H2S ↔ 3S + 2H2O\",\"products\":[\"S\",\"H2O\"],\"reactants\":[\"SO2\",\"H2S\"],\"reaction_type\":\"Redox\"}]}', refusal=None, role='assistant', audio=None, function_call=None, tool_calls=None, parsed=Reactions(reactions=[Reaction(reaction_type=<ReactionType.Others: 'Others'>, equation='Na2SO3 + H2SO4(浓) ↔ Na2SO4 + SO2 + H2O', conditions='none', reactants=['Na2SO3', 'H2SO4(浓)'], products=['Na2SO4', 'SO2', 'H2O']), Reaction(reaction_type=<ReactionType.Redox: 'Redox'>, equation='2SO2 + O2 ↔[V2O5][Δ] 2SO3', conditions='高温', reactants=['SO2', 'O2'], products=['SO3']), Reaction(reaction_type=<ReactionType.Redox: 'Redox'>, equation='SO2 + 2H2S ↔ 3S + 2H2O', conditions='适当温度并有催化剂存在', reactants=['SO2', 'H2S'], products=['S', 'H2O'])]))\u001b[0m\n"
     ]
    },
    {
     "name": "stdout",
     "output_type": "stream",
     "text": [
      "[('reactions', [Reaction(reaction_type=<ReactionType.Others: 'Others'>, equation='Na2SO3 + H2SO4(浓) ↔ Na2SO4 + SO2 + H2O', conditions='none', reactants=['Na2SO3', 'H2SO4(浓)'], products=['Na2SO4', 'SO2', 'H2O']), Reaction(reaction_type=<ReactionType.Redox: 'Redox'>, equation='2SO2 + O2 ↔[V2O5][Δ] 2SO3', conditions='高温', reactants=['SO2', 'O2'], products=['SO3']), Reaction(reaction_type=<ReactionType.Redox: 'Redox'>, equation='SO2 + 2H2S ↔ 3S + 2H2O', conditions='适当温度并有催化剂存在', reactants=['SO2', 'H2S'], products=['S', 'H2O'])])]\n"
     ]
    }
   ],
   "source": [
    "entity = \"SO2\"\n",
    "\n",
    "examples = [\"(SO2, is_type_of, Gas)\",\"(SO2, has_chemical_formula, SO_2)\",\"(SO2, is_used_in, Wine_Production)\",\"(SO2, causes, Air_Pollution)\",\"(SO2, causes, Acid_Rain)\"]\n",
    "triplet_pattern = r'\\((\\w+),\\s*(\\w+),\\s*(\\w+)\\)'\n",
    "\n",
    "domain_text = corpus.get_samples(-1)\n",
    "\n",
    "system_prompt = \"You are ChatGPT, you will extract all information related to a specific word from a piece of text. These information must be output strictly in given format\"\n",
    "prompt = f\"\"\"\n",
    "Domain Context: {domain_text}\n",
    "Please extract all information related to {entity} from the above text. The information must have strong relevance with {entity} and be output strictly in given format.\n",
    "Be concise and your reply should be all in English.\n",
    "\"\"\"\n",
    "response = client.beta.chat.completions.parse(\n",
    "    model=\"gpt-4o\",\n",
    "    messages=[{\"role\": \"system\", \"content\": system_prompt},\n",
    "                {\"role\": \"user\", \"content\": prompt}],\n",
    "    response_format=Reactions\n",
    ")\n",
    "\n",
    "raw_output = response.choices[0].message\n",
    "if raw_output.parsed:\n",
    "    logger.debug(f\"ModelOutput: {raw_output}\")\n",
    "    # 解析三元组（示例：正则匹配或简单分割）\n",
    "    matches = raw_output.parsed\n",
    "    print([triple for triple in matches])"
   ]
  },
  {
   "cell_type": "code",
   "execution_count": 78,
   "metadata": {},
   "outputs": [
    {
     "name": "stdout",
     "output_type": "stream",
     "text": [
      "{'reactions': [{'conditions': 'none',\n",
      "                'equation': 'Na2SO3 + H2SO4(浓) ↔ Na2SO4 + SO2 + H2O',\n",
      "                'products': ['Na2SO4', 'SO2', 'H2O'],\n",
      "                'reactants': ['Na2SO3', 'H2SO4(浓)'],\n",
      "                'reaction_type': 'Others'},\n",
      "               {'conditions': '高温',\n",
      "                'equation': '2SO2 + O2 ↔[V2O5][Δ] 2SO3',\n",
      "                'products': ['SO3'],\n",
      "                'reactants': ['SO2', 'O2'],\n",
      "                'reaction_type': 'Redox'},\n",
      "               {'conditions': '适当温度并有催化剂存在',\n",
      "                'equation': 'SO2 + 2H2S ↔ 3S + 2H2O',\n",
      "                'products': ['S', 'H2O'],\n",
      "                'reactants': ['SO2', 'H2S'],\n",
      "                'reaction_type': 'Redox'}]}\n"
     ]
    }
   ],
   "source": [
    "import json\n",
    "from pprint import pprint\n",
    "\n",
    "result = json.loads(matches.model_dump_json())\n",
    "\n",
    "pprint(result)"
   ]
  },
  {
   "cell_type": "code",
   "execution_count": 68,
   "metadata": {},
   "outputs": [],
   "source": [
    "with open(\"06-08-SO2-Reactions.json\", \"w\") as f:\n",
    "    json.dump(result, f, indent=4)"
   ]
  }
 ],
 "metadata": {
  "kernelspec": {
   "display_name": "sackg",
   "language": "python",
   "name": "python3"
  },
  "language_info": {
   "codemirror_mode": {
    "name": "ipython",
    "version": 3
   },
   "file_extension": ".py",
   "mimetype": "text/x-python",
   "name": "python",
   "nbconvert_exporter": "python",
   "pygments_lexer": "ipython3",
   "version": "3.11.11"
  }
 },
 "nbformat": 4,
 "nbformat_minor": 2
}
